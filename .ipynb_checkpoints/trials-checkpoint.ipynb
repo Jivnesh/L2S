{
 "cells": [
  {
   "cell_type": "markdown",
   "metadata": {
    "colab_type": "text",
    "id": "view-in-github"
   },
   "source": [
    "<a href=\"https://colab.research.google.com/github/Jivnesh/L2S/blob/master/trials.ipynb\" target=\"_parent\"><img src=\"https://colab.research.google.com/assets/colab-badge.svg\" alt=\"Open In Colab\"/></a>"
   ]
  },
  {
   "cell_type": "code",
   "execution_count": 2,
   "metadata": {
    "colab": {
     "base_uri": "https://localhost:8080/",
     "height": 34
    },
    "colab_type": "code",
    "id": "IjUluSOc9K6m",
    "outputId": "6e06a7f2-b454-4b03-ca52-ff406aa4032e"
   },
   "outputs": [],
   "source": [
    "import json"
   ]
  },
  {
   "cell_type": "code",
   "execution_count": 4,
   "metadata": {},
   "outputs": [],
   "source": [
    "pos = json.load(open(\"files/coarse_to_ma_dict.json\"))"
   ]
  },
  {
   "cell_type": "code",
   "execution_count": 20,
   "metadata": {},
   "outputs": [],
   "source": [
    "outcasts = list()\n",
    "for item in pos[\"IV\"]:\n",
    "    for thing in [\"sg\", \"pl\", \"du\"]:\n",
    "        if thing in item:\n",
    "            outcasts.append(item)\n",
    "    for thing in [\"1\",\"2\",\"3\"]:\n",
    "        try:\n",
    "            if thing in item[item.index(\"]\"):]:\n",
    "                outcasts.append(item)\n",
    "        except ValueError:\n",
    "             if thing in item:\n",
    "                outcasts.append(item)"
   ]
  },
  {
   "cell_type": "code",
   "execution_count": 21,
   "metadata": {},
   "outputs": [
    {
     "data": {
      "text/plain": [
       "['impft. ac. sg. ',\n",
       " 'ppr. . sg. ',\n",
       " 'impft . ac. sg. ',\n",
       " 'pr. md. . 3',\n",
       " 'impft. md. sg. ',\n",
       " 'pfp. . pl. ',\n",
       " 'pp. . du. ',\n",
       " 'pp. . sg. ',\n",
       " 'opt. md. . 3',\n",
       " 'pp. ac. sgdu. 2',\n",
       " 'pp. ac. sgdu. 2',\n",
       " 'pp. ac. sgdu. 2',\n",
       " 'pfp. . sg. ',\n",
       " 'pp. . pl. ',\n",
       " 'pr. md. sg. ',\n",
       " 'pft. md. pl. ',\n",
       " 'pr. md. sgpl. 3',\n",
       " 'pr. md. sgpl. 3',\n",
       " 'pr. md. sgpl. 3']"
      ]
     },
     "execution_count": 21,
     "metadata": {},
     "output_type": "execute_result"
    }
   ],
   "source": [
    "outcasts"
   ]
  },
  {
   "cell_type": "code",
   "execution_count": 14,
   "metadata": {},
   "outputs": [
    {
     "data": {
      "text/plain": [
       "['ca. abs.', 'abs.', 'ind.', 'part.', 'prep.']"
      ]
     },
     "execution_count": 14,
     "metadata": {},
     "output_type": "execute_result"
    }
   ],
   "source": [
    "pos[\"Ind\"]"
   ]
  },
  {
   "cell_type": "code",
   "execution_count": 30,
   "metadata": {},
   "outputs": [],
   "source": [
    "import pandas as pd\n",
    "import numpy as np"
   ]
  },
  {
   "cell_type": "code",
   "execution_count": 29,
   "metadata": {},
   "outputs": [
    {
     "data": {
      "text/html": [
       "<div>\n",
       "<style scoped>\n",
       "    .dataframe tbody tr th:only-of-type {\n",
       "        vertical-align: middle;\n",
       "    }\n",
       "\n",
       "    .dataframe tbody tr th {\n",
       "        vertical-align: top;\n",
       "    }\n",
       "\n",
       "    .dataframe thead th {\n",
       "        text-align: right;\n",
       "    }\n",
       "</style>\n",
       "<table border=\"1\" class=\"dataframe\">\n",
       "  <thead>\n",
       "    <tr style=\"text-align: right;\">\n",
       "      <th></th>\n",
       "      <th></th>\n",
       "      <th></th>\n",
       "      <th>Unnamed: 0</th>\n",
       "      <th>child_pos</th>\n",
       "      <th>head_pos</th>\n",
       "      <th>file_name</th>\n",
       "    </tr>\n",
       "    <tr>\n",
       "      <th>head_case</th>\n",
       "      <th>child_case</th>\n",
       "      <th>relation</th>\n",
       "      <th></th>\n",
       "      <th></th>\n",
       "      <th></th>\n",
       "      <th></th>\n",
       "    </tr>\n",
       "  </thead>\n",
       "  <tbody>\n",
       "    <tr>\n",
       "      <td>FV</td>\n",
       "      <td>nom</td>\n",
       "      <td>karwa</td>\n",
       "      <td>1016</td>\n",
       "      <td>1016</td>\n",
       "      <td>1016</td>\n",
       "      <td>1016</td>\n",
       "    </tr>\n",
       "    <tr>\n",
       "      <td>nom</td>\n",
       "      <td>nom</td>\n",
       "      <td>viseranam</td>\n",
       "      <td>659</td>\n",
       "      <td>659</td>\n",
       "      <td>659</td>\n",
       "      <td>659</td>\n",
       "    </tr>\n",
       "    <tr>\n",
       "      <td>FV</td>\n",
       "      <td>acc</td>\n",
       "      <td>karma</td>\n",
       "      <td>576</td>\n",
       "      <td>576</td>\n",
       "      <td>576</td>\n",
       "      <td>576</td>\n",
       "    </tr>\n",
       "    <tr>\n",
       "      <td>acc</td>\n",
       "      <td>acc</td>\n",
       "      <td>viseranam</td>\n",
       "      <td>458</td>\n",
       "      <td>458</td>\n",
       "      <td>458</td>\n",
       "      <td>458</td>\n",
       "    </tr>\n",
       "    <tr>\n",
       "      <td>FV</td>\n",
       "      <td>Ind</td>\n",
       "      <td>sambanxah</td>\n",
       "      <td>430</td>\n",
       "      <td>430</td>\n",
       "      <td>430</td>\n",
       "      <td>430</td>\n",
       "    </tr>\n",
       "    <tr>\n",
       "      <td>...</td>\n",
       "      <td>...</td>\n",
       "      <td>...</td>\n",
       "      <td>...</td>\n",
       "      <td>...</td>\n",
       "      <td>...</td>\n",
       "      <td>...</td>\n",
       "    </tr>\n",
       "    <tr>\n",
       "      <td rowspan=\"5\" valign=\"top\">ROOT</td>\n",
       "      <td>acc</td>\n",
       "      <td>root</td>\n",
       "      <td>3</td>\n",
       "      <td>3</td>\n",
       "      <td>0</td>\n",
       "      <td>3</td>\n",
       "    </tr>\n",
       "    <tr>\n",
       "      <td>Ind</td>\n",
       "      <td>root</td>\n",
       "      <td>182</td>\n",
       "      <td>182</td>\n",
       "      <td>0</td>\n",
       "      <td>182</td>\n",
       "    </tr>\n",
       "    <tr>\n",
       "      <td>IV</td>\n",
       "      <td>root</td>\n",
       "      <td>265</td>\n",
       "      <td>265</td>\n",
       "      <td>0</td>\n",
       "      <td>265</td>\n",
       "    </tr>\n",
       "    <tr>\n",
       "      <td>FV</td>\n",
       "      <td>root</td>\n",
       "      <td>1027</td>\n",
       "      <td>1027</td>\n",
       "      <td>0</td>\n",
       "      <td>1027</td>\n",
       "    </tr>\n",
       "    <tr>\n",
       "      <td>g</td>\n",
       "      <td>root</td>\n",
       "      <td>1</td>\n",
       "      <td>1</td>\n",
       "      <td>0</td>\n",
       "      <td>1</td>\n",
       "    </tr>\n",
       "  </tbody>\n",
       "</table>\n",
       "<p>521 rows × 4 columns</p>\n",
       "</div>"
      ],
      "text/plain": [
       "                                Unnamed: 0  child_pos  head_pos  file_name\n",
       "head_case child_case relation                                             \n",
       "FV        nom        karwa            1016       1016      1016       1016\n",
       "nom       nom        viseranam         659        659       659        659\n",
       "FV        acc        karma             576        576       576        576\n",
       "acc       acc        viseranam         458        458       458        458\n",
       "FV        Ind        sambanxah         430        430       430        430\n",
       "...                                    ...        ...       ...        ...\n",
       "ROOT      acc        root                3          3         0          3\n",
       "          Ind        root              182        182         0        182\n",
       "          IV         root              265        265         0        265\n",
       "          FV         root             1027       1027         0       1027\n",
       "          g          root                1          1         0          1\n",
       "\n",
       "[521 rows x 4 columns]"
      ]
     },
     "execution_count": 29,
     "metadata": {},
     "output_type": "execute_result"
    }
   ],
   "source": [
    "df = pd.read_csv(\"files/tripples.csv\")\n",
    "df.groupby([\"head_case\",\"child_case\",\"relation\"]).count().sort_values(\"head_pos\",ascending=False)"
   ]
  }
 ],
 "metadata": {
  "colab": {
   "authorship_tag": "ABX9TyPIsgpdQSZPm3qjU+/au0p0",
   "include_colab_link": true,
   "name": "Untitled13.ipynb",
   "provenance": []
  },
  "kernelspec": {
   "display_name": "Python 3",
   "language": "python",
   "name": "python3"
  },
  "language_info": {
   "codemirror_mode": {
    "name": "ipython",
    "version": 3
   },
   "file_extension": ".py",
   "mimetype": "text/x-python",
   "name": "python",
   "nbconvert_exporter": "python",
   "pygments_lexer": "ipython3",
   "version": "3.7.3"
  }
 },
 "nbformat": 4,
 "nbformat_minor": 1
}
