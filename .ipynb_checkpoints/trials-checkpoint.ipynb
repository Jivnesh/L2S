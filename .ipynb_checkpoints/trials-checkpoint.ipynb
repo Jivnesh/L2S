{
 "cells": [
  {
   "cell_type": "markdown",
   "metadata": {
    "colab_type": "text",
    "id": "view-in-github"
   },
   "source": [
    "<a href=\"https://colab.research.google.com/github/Jivnesh/L2S/blob/master/trials.ipynb\" target=\"_parent\"><img src=\"https://colab.research.google.com/assets/colab-badge.svg\" alt=\"Open In Colab\"/></a>"
   ]
  },
  {
   "cell_type": "code",
   "execution_count": 2,
   "metadata": {
    "colab": {
     "base_uri": "https://localhost:8080/",
     "height": 34
    },
    "colab_type": "code",
    "id": "IjUluSOc9K6m",
    "outputId": "6e06a7f2-b454-4b03-ca52-ff406aa4032e"
   },
   "outputs": [],
   "source": [
    "import json"
   ]
  },
  {
   "cell_type": "code",
   "execution_count": 4,
   "metadata": {},
   "outputs": [],
   "source": [
    "pos = json.load(open(\"files/coarse_to_ma_dict.json\"))"
   ]
  },
  {
   "cell_type": "code",
   "execution_count": 6,
   "metadata": {},
   "outputs": [],
   "source": [
    "outcasts = list()\n",
    "for item in pos[\"IV\"]:\n",
    "    for thing in [\"sg\", \"pl\", \"du\", \"1\",\"2\",\"3\"]:\n",
    "        if thing in item:\n",
    "            outcasts.append(item)"
   ]
  },
  {
   "cell_type": "code",
   "execution_count": 7,
   "metadata": {},
   "outputs": [
    {
     "data": {
      "text/plain": [
       "['ppr. [1] md.',\n",
       " 'impft. ac. sg. ',\n",
       " 'ca. pfp. [2]',\n",
       " 'ppr. . sg. ',\n",
       " 'impft . ac. sg. ',\n",
       " 'pr. md. . 3',\n",
       " 'ppr. [10] ac.',\n",
       " 'ca. pfp. [1]',\n",
       " 'impft. md. sg. ',\n",
       " 'pfp. . pl. ',\n",
       " 'pp. . du. ',\n",
       " 'pp. [2]',\n",
       " 'pp. . sg. ',\n",
       " 'pfp. [2]',\n",
       " 'ca. pfp. [3]',\n",
       " 'ppr. [1] ac.',\n",
       " 'opt. md. . 3',\n",
       " 'pp. ac. sgdu. 2',\n",
       " 'pp. ac. sgdu. 2',\n",
       " 'pp. ac. sgdu. 2',\n",
       " 'pfp. . sg. ',\n",
       " 'pp. . pl. ',\n",
       " 'pfp. [1]',\n",
       " 'ppr. [2] ac.',\n",
       " 'pr. md. sg. ',\n",
       " 'pft. md. pl. ',\n",
       " 'pfp. [3]',\n",
       " 'pr. md. sgpl. 3',\n",
       " 'pr. md. sgpl. 3',\n",
       " 'pr. md. sgpl. 3']"
      ]
     },
     "execution_count": 7,
     "metadata": {},
     "output_type": "execute_result"
    }
   ],
   "source": [
    "outcasts"
   ]
  },
  {
   "cell_type": "code",
   "execution_count": 14,
   "metadata": {},
   "outputs": [
    {
     "data": {
      "text/plain": [
       "['ca. abs.', 'abs.', 'ind.', 'part.', 'prep.']"
      ]
     },
     "execution_count": 14,
     "metadata": {},
     "output_type": "execute_result"
    }
   ],
   "source": [
    "pos[\"Ind\"]"
   ]
  }
 ],
 "metadata": {
  "colab": {
   "authorship_tag": "ABX9TyPIsgpdQSZPm3qjU+/au0p0",
   "include_colab_link": true,
   "name": "Untitled13.ipynb",
   "provenance": []
  },
  "kernelspec": {
   "display_name": "Python 3",
   "language": "python",
   "name": "python3"
  },
  "language_info": {
   "codemirror_mode": {
    "name": "ipython",
    "version": 3
   },
   "file_extension": ".py",
   "mimetype": "text/x-python",
   "name": "python",
   "nbconvert_exporter": "python",
   "pygments_lexer": "ipython3",
   "version": "3.7.3"
  }
 },
 "nbformat": 4,
 "nbformat_minor": 1
}
