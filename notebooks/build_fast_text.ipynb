{
 "cells": [
  {
   "cell_type": "markdown",
   "metadata": {},
   "source": [
    "### OOV words added to word embedding file"
   ]
  },
  {
   "cell_type": "code",
   "execution_count": 1,
   "metadata": {},
   "outputs": [
    {
     "name": "stdout",
     "output_type": "stream",
     "text": [
      "Language: san Split: train Num. Sentences: 21792 \n",
      "creating data/ud_pos_ner_dp_train_san\n",
      "Language: san Split: dev Num. Sentences: 1000 \n",
      "creating data/ud_pos_ner_dp_dev_san\n",
      "Language: san Split: test Num. Sentences: 1000 \n",
      "creating data/ud_pos_ner_dp_test_san\n"
     ]
    }
   ],
   "source": []
  },
  {
   "cell_type": "code",
   "execution_count": 2,
   "metadata": {},
   "outputs": [],
   "source": [
    "import fasttext"
   ]
  },
  {
   "cell_type": "code",
   "execution_count": 3,
   "metadata": {},
   "outputs": [
    {
     "name": "stderr",
     "output_type": "stream",
     "text": [
      "Warning : `load_model` does not return WordVectorModel or SupervisedModel any more, but a `FastText` object which is very similar.\n"
     ]
    }
   ],
   "source": [
    "model = fasttext.load_model(\"../fastText/result/cc.sanskrit.350.bin\")"
   ]
  },
  {
   "cell_type": "code",
   "execution_count": 34,
   "metadata": {},
   "outputs": [],
   "source": [
    "import json\n",
    "with open('word_new.json') as f:\n",
    "      data = json.load(f)\n"
   ]
  },
  {
   "cell_type": "code",
   "execution_count": 35,
   "metadata": {},
   "outputs": [
    {
     "data": {
      "text/plain": [
       "23285"
      ]
     },
     "execution_count": 35,
     "metadata": {},
     "output_type": "execute_result"
    }
   ],
   "source": [
    "len(data['instances'])"
   ]
  },
  {
   "cell_type": "code",
   "execution_count": 29,
   "metadata": {},
   "outputs": [
    {
     "data": {
      "text/plain": [
       "0"
      ]
     },
     "execution_count": 29,
     "metadata": {},
     "output_type": "execute_result"
    }
   ],
   "source": [
    "e = 0\n",
    "\n",
    "\n",
    "for w in word_set:\n",
    "    if w not in data['instances']:\n",
    "        e+=1\n",
    "        store.append(w)\n",
    "#         print(w)\n",
    "e"
   ]
  },
  {
   "cell_type": "code",
   "execution_count": 36,
   "metadata": {},
   "outputs": [],
   "source": [
    "store = data['instances']"
   ]
  },
  {
   "cell_type": "code",
   "execution_count": 37,
   "metadata": {},
   "outputs": [
    {
     "name": "stdout",
     "output_type": "stream",
     "text": [
      "23285\n"
     ]
    }
   ],
   "source": [
    "# from dictionary\n",
    "count =0 \n",
    "with open(\"./data/multilingual_word_embeddings/cc.sanskrit.350.new.vec\", \"w\") as f:   \n",
    "    f.write(str(len(store))+' '+str(350)+'\\n')\n",
    "    for word in store:\n",
    "        if word:\n",
    "            word=word+' '\n",
    "            f.write(word) \n",
    "            for v in model.get_word_vector(word):\n",
    "                f.write(' '+str(v))\n",
    "            count = count + 1\n",
    "            if count != len(store):\n",
    "                f.write('\\n')\n",
    "            \n",
    "        else:\n",
    "            print('Caught it!')\n",
    "print(count)"
   ]
  },
  {
   "cell_type": "code",
   "execution_count": null,
   "metadata": {},
   "outputs": [],
   "source": []
  },
  {
   "cell_type": "code",
   "execution_count": null,
   "metadata": {},
   "outputs": [],
   "source": []
  }
 ],
 "metadata": {
  "kernelspec": {
   "display_name": "Python 3",
   "language": "python",
   "name": "python3"
  },
  "language_info": {
   "codemirror_mode": {
    "name": "ipython",
    "version": 3
   },
   "file_extension": ".py",
   "mimetype": "text/x-python",
   "name": "python",
   "nbconvert_exporter": "python",
   "pygments_lexer": "ipython3",
   "version": "3.7.4"
  }
 },
 "nbformat": 4,
 "nbformat_minor": 2
}
