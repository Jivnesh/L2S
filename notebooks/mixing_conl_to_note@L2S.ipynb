{
 "cells": [
  {
   "cell_type": "markdown",
   "metadata": {},
   "source": [
    "### Mixer"
   ]
  },
  {
   "cell_type": "code",
   "execution_count": 101,
   "metadata": {},
   "outputs": [
    {
     "name": "stdout",
     "output_type": "stream",
     "text": [
      "1 200 0\n",
      "2 200 0\n",
      "3 200 0\n",
      "4 185 15\n",
      "5 170 30\n",
      "6 155 45\n",
      "7 140 60\n",
      "8 125 75\n",
      "9 110 90\n",
      "10 10 190\n",
      "10 0 200\n",
      "11 0 200\n",
      "12 0 200\n",
      "13 0 200\n",
      "14 0 200\n",
      "15 0 200\n",
      "16 0 200\n",
      "17 0 200\n",
      "18 0 200\n",
      "19 0 200\n",
      "20 0 200\n",
      "21 0 200\n",
      "22 0 200\n",
      "23 0 200\n",
      "24 0 200\n",
      "25 0 200\n",
      "26 0 200\n",
      "27 0 200\n",
      "28 0 200\n",
      "29 0 200\n",
      "30 0 200\n",
      "31 0 200\n",
      "32 0 200\n",
      "33 0 200\n",
      "34 0 200\n",
      "35 0 200\n",
      "36 0 200\n",
      "37 0 200\n",
      "38 0 200\n",
      "39 0 200\n",
      "40 0 200\n",
      "41 0 200\n",
      "42 0 200\n",
      "43 0 200\n",
      "44 0 200\n",
      "45 0 200\n",
      "46 0 200\n",
      "47 0 200\n",
      "48 0 200\n",
      "49 0 200\n",
      "50 0 200\n",
      "51 0 200\n",
      "52 0 200\n",
      "53 0 200\n",
      "54 0 200\n",
      "55 0 200\n",
      "56 0 200\n",
      "57 0 200\n",
      "58 0 200\n",
      "59 0 200\n",
      "60 0 200\n",
      "61 0 200\n",
      "62 0 200\n",
      "63 0 200\n",
      "64 0 200\n",
      "65 0 200\n",
      "66 0 200\n",
      "67 0 200\n",
      "68 0 200\n",
      "69 0 200\n",
      "70 0 200\n",
      "71 0 200\n",
      "72 0 200\n",
      "73 0 200\n",
      "74 0 200\n",
      "75 0 200\n",
      "76 0 200\n",
      "77 0 200\n",
      "78 0 200\n",
      "79 0 200\n",
      "80 0 200\n",
      "81 0 200\n",
      "82 0 200\n",
      "83 0 200\n",
      "84 0 200\n",
      "85 0 200\n",
      "86 0 200\n",
      "87 0 200\n",
      "88 0 200\n",
      "89 0 200\n",
      "90 0 200\n",
      "91 0 200\n",
      "92 0 200\n",
      "93 0 200\n",
      "94 0 200\n",
      "95 0 200\n",
      "96 0 200\n",
      "97 0 200\n",
      "98 0 200\n",
      "99 0 200\n",
      "100 0 200\n",
      "101 0 200\n",
      "102 0 200\n",
      "103 0 200\n",
      "104 0 200\n",
      "105 0 200\n",
      "106 0 200\n",
      "107 0 200\n",
      "108 0 192\n"
     ]
    }
   ],
   "source": [
    "# gold = 2495\n",
    "# silver = 20297\n",
    "gold = 1495\n",
    "silver = 20297\n",
    "total = gold+silver\n",
    "batchsize = 200\n",
    "sums = 0\n",
    "deduction = 15\n",
    "count = 0\n",
    "inter = 1\n",
    "splits = list()\n",
    "G = batchsize \n",
    "S = 0\n",
    "while(sums<total):\n",
    "    while(count<3):\n",
    "        sums+=batchsize\n",
    "        gold -= batchsize\n",
    "        print(inter,batchsize,0)\n",
    "        splits.append([batchsize,0])\n",
    "#         print('Gold',gold)\n",
    "#         print('Silver',silver)\n",
    "        inter+=1\n",
    "        count +=1\n",
    "    if gold> 0 and G>=0 and S<=batchsize :\n",
    "        G=G-deduction\n",
    "        S = S + deduction\n",
    "        \n",
    "        if gold-G > 0:\n",
    "            print(inter,G,S)\n",
    "            splits.append([G,S])\n",
    "            inter+=1\n",
    "            silver -= S\n",
    "            sums+=batchsize\n",
    "        gold -= G\n",
    "        \n",
    "#         print('Gold',gold)\n",
    "#         print('Silver',silver)\n",
    "    else:\n",
    "#         print('Goldddd',gold)\n",
    "# #         print(inter,gold,batchsize- gold)\n",
    "#         inter+=1\n",
    "        print(inter,gold+G,batchsize-gold-G)\n",
    "        splits.append([gold+G,batchsize-gold-G])\n",
    "        silver -= batchsize- gold-G\n",
    "# #         print('Gold',gold)\n",
    "# #         print('Silver',silver)\n",
    "        gold = 0\n",
    "        \n",
    "        sums+=batchsize\n",
    "    while gold == 0 and silver- batchsize>0:\n",
    "        print(inter,0,batchsize)\n",
    "        splits.append([0,batchsize])\n",
    "        inter+=1\n",
    "        silver -= batchsize\n",
    "        sums+=batchsize\n",
    "#         print('Gold',gold)\n",
    "#         print('Silver',silver)\n",
    "    if silver- batchsize< 0:\n",
    "        print(inter,0,silver)\n",
    "        splits.append([0,silver])\n",
    "        break"
   ]
  },
  {
   "cell_type": "code",
   "execution_count": 96,
   "metadata": {},
   "outputs": [],
   "source": [
    "s = 0\n",
    "r= 0\n",
    "for a,b in splits:\n",
    "    s = s+ a \n",
    "    r = r +b"
   ]
  },
  {
   "cell_type": "code",
   "execution_count": 102,
   "metadata": {},
   "outputs": [
    {
     "data": {
      "text/plain": [
       "1495"
      ]
     },
     "execution_count": 102,
     "metadata": {},
     "output_type": "execute_result"
    }
   ],
   "source": [
    "s"
   ]
  },
  {
   "cell_type": "code",
   "execution_count": 98,
   "metadata": {},
   "outputs": [
    {
     "data": {
      "text/plain": [
       "20297"
      ]
     },
     "execution_count": 98,
     "metadata": {},
     "output_type": "execute_result"
    }
   ],
   "source": [
    "r"
   ]
  },
  {
   "cell_type": "markdown",
   "metadata": {},
   "source": [
    "### Conll to note format for sanskrit"
   ]
  },
  {
   "cell_type": "code",
   "execution_count": 103,
   "metadata": {},
   "outputs": [],
   "source": [
    "import argparse\n",
    "import os\n",
    "path = './sanskrit_treebank/'\n",
    "languages_for_low_resource = ['san']\n",
    "languages = sorted(list(set(languages_for_low_resource)))\n",
    "#\n",
    "silver_dir = ['./sanskrit_treebank/train_20k']\n",
    "gold_dir = ['./sanskrit_treebank/train']\n",
    "gold_path = list()\n",
    "silver_path = list()\n",
    "for sub_folder in gold_dir:\n",
    "    files = sorted(os.listdir(sub_folder))\n",
    "    for file in files:\n",
    "        gold_path.append(os.path.join(sub_folder, file))\n",
    "for sub_folder in silver_dir:\n",
    "    files = sorted(os.listdir(sub_folder))\n",
    "    for file in files:\n",
    "        silver_path.append(os.path.join(sub_folder, file))   "
   ]
  },
  {
   "cell_type": "code",
   "execution_count": 104,
   "metadata": {},
   "outputs": [
    {
     "data": {
      "text/plain": [
       "'./sanskrit_treebank/train/Gold_1.csv'"
      ]
     },
     "execution_count": 104,
     "metadata": {},
     "output_type": "execute_result"
    }
   ],
   "source": [
    "gold_path[0]"
   ]
  },
  {
   "cell_type": "code",
   "execution_count": 105,
   "metadata": {},
   "outputs": [
    {
     "data": {
      "text/plain": [
       "20297"
      ]
     },
     "execution_count": 105,
     "metadata": {},
     "output_type": "execute_result"
    }
   ],
   "source": [
    "len(silver_path)"
   ]
  },
  {
   "cell_type": "code",
   "execution_count": 106,
   "metadata": {},
   "outputs": [],
   "source": [
    "files = list()\n",
    "for g, s in splits:\n",
    "    for i in range(g):\n",
    "        files.append(gold_path.pop())\n",
    "    for i in range(s):\n",
    "        files.append(silver_path.pop())"
   ]
  },
  {
   "cell_type": "code",
   "execution_count": 107,
   "metadata": {},
   "outputs": [
    {
     "name": "stdout",
     "output_type": "stream",
     "text": [
      "Num. Sentences: 21792 \n",
      "creating sanskrit_treebank/ud_pos_ner_dp_mixing_with_1.5k_gold\n"
     ]
    }
   ],
   "source": [
    "sentences = []\n",
    "num_sentences = 0\n",
    "for file in files:\n",
    "    num_sentences += 1\n",
    "    flag = 0\n",
    "    with open(file, 'r') as file:\n",
    "        for line in file:\n",
    "            new_line = []\n",
    "            line = line.strip()\n",
    "#                     print(line)\n",
    "            if flag == 0:\n",
    "                flag = 1\n",
    "                continue\n",
    "            tokens = line.split(',')\n",
    "            id = str(int(tokens[0]) + 1)\n",
    "            word = tokens[1]\n",
    "            ############################\n",
    "            # To add rule features id of rule is given\n",
    "            lemma = tokens[2]\n",
    "            pos = tokens[3]\n",
    "            tag.add(pos)\n",
    "            if tokens[6]:\n",
    "                arc_tag = tokens[5]\n",
    "                head = str(int(tokens[6]) + 1)\n",
    "            else:\n",
    "                arc_tag = 'root'\n",
    "                head = '0'\n",
    "            new_line = [id, word, pos, lemma, head, arc_tag]\n",
    "#                     print(new_line)\n",
    "            sentences.append(new_line)\n",
    "    sentences.append([])   \n",
    "\n",
    "print('Num. Sentences: %s ' % ( num_sentences))\n",
    "write_data_path = 'sanskrit_treebank/ud_pos_ner_dp_' + 'mixing' + '_' + 'with_1.5k_gold'\n",
    "print('creating %s' % write_data_path)\n",
    "with open(write_data_path, 'w') as f:\n",
    "    for line in sentences:\n",
    "        f.write('\\t'.join(line) + '\\n')"
   ]
  }
 ],
 "metadata": {
  "kernelspec": {
   "display_name": "Python 3",
   "language": "python",
   "name": "python3"
  },
  "language_info": {
   "codemirror_mode": {
    "name": "ipython",
    "version": 3
   },
   "file_extension": ".py",
   "mimetype": "text/x-python",
   "name": "python",
   "nbconvert_exporter": "python",
   "pygments_lexer": "ipython3",
   "version": "3.7.4"
  }
 },
 "nbformat": 4,
 "nbformat_minor": 2
}
