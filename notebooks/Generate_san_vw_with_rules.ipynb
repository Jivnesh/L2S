{
 "cells": [
  {
   "cell_type": "markdown",
   "metadata": {},
   "source": [
    "### Generate_san_vw_with_rules\n",
    "For train,test,dev files"
   ]
  },
  {
   "cell_type": "code",
   "execution_count": 6,
   "metadata": {},
   "outputs": [
    {
     "name": "stderr",
     "output_type": "stream",
     "text": [
      "Warning : `load_model` does not return WordVectorModel or SupervisedModel any more, but a `FastText` object which is very similar.\n"
     ]
    }
   ],
   "source": [
    "# import fasttext\n",
    "# model = fasttext.load_model(\"../../fastText/result/cc.sanskrit.50.bin\")"
   ]
  },
  {
   "cell_type": "code",
   "execution_count": 2,
   "metadata": {},
   "outputs": [],
   "source": [
    "import pandas as pd\n",
    "# data = pd.read_csv('../../DCST/data/Rules/rule_'+'Gold_1496',header=None,sep=',')\n",
    "# data"
   ]
  },
  {
   "cell_type": "code",
   "execution_count": 3,
   "metadata": {},
   "outputs": [],
   "source": [
    "# load = pd.read_csv('../../DCST/data/sanskrit_treebank/'+'dev/'+'Gold_1496'+'.csv',header=None,sep=',')\n",
    "# load"
   ]
  },
  {
   "cell_type": "code",
   "execution_count": 5,
   "metadata": {},
   "outputs": [
    {
     "name": "stdout",
     "output_type": "stream",
     "text": [
      "('', 'du', '', 'prep pr', '3')\n"
     ]
    }
   ],
   "source": [
    "import re\n",
    "indeclinable = ['ind','prep','interj','prep','conj','part','abs','ca abs']\n",
    "case_list = ['nom','voc','acc','i','dat','abl','g','loc']\n",
    "gender_list = ['n','f','m','*']\n",
    "person_list = ['1','2','3']\n",
    "no_list = ['du','sg','pl']\n",
    "pops = [' ac',' ps']\n",
    "def process_ma(ma):\n",
    "          # Variation:III\n",
    "        temp = re.sub(\"([\\(\\[]).*?([\\)\\]])\", \"\\g<1>\\g<2>\", ma).replace('[] ','').strip(' []')\n",
    "        temp = temp.split('.')\n",
    "        if temp[-1] == '':\n",
    "            temp.pop(-1)\n",
    "        # Remove active passive\n",
    "        case=''\n",
    "        no=''\n",
    "        person=''\n",
    "        gender=''\n",
    "        tense=''\n",
    "        \n",
    "        for a,b in enumerate(temp):\n",
    "            if b in pops:\n",
    "                temp.pop(a)\n",
    "        # Get gender\n",
    "        for a,b in enumerate(temp):\n",
    "            if b.strip() in gender_list:\n",
    "                gender = b.strip()\n",
    "                temp.pop(a)\n",
    "        # Get case\n",
    "        for a,b in enumerate(temp):\n",
    "            if b.strip() in case_list:\n",
    "                case = b.strip()\n",
    "                temp.pop(a)\n",
    "        # Get person\n",
    "        for a,b in enumerate(temp):\n",
    "            if b.strip() in person_list:\n",
    "                person = b.strip()\n",
    "                temp.pop(a)\n",
    "        # Get no\n",
    "        for a,b in enumerate(temp):\n",
    "            if b.strip() in no_list:\n",
    "                no = b.strip()\n",
    "                temp.pop(a)\n",
    "        # Get Tense\n",
    "        for b in temp:\n",
    "            tense=tense+ ' '+b.strip()\n",
    "        tense=tense.strip()\n",
    "        return case, no, gender, tense, person\n",
    "print(process_ma('prep. pr. [1] ac. du. 3'))"
   ]
  },
  {
   "cell_type": "code",
   "execution_count": 17,
   "metadata": {},
   "outputs": [],
   "source": [
    "def get_string(case, no, gender, tense, person):\n",
    "    var=''\n",
    "    if case:\n",
    "        t = 'case=%s '%case\n",
    "        var=var+t\n",
    "    if gender:\n",
    "        t = 'gender=%s '%gender\n",
    "        var=var+t\n",
    "    if tense:\n",
    "        t = 'tense=%s '%tense\n",
    "        var=var+t\n",
    "    if no:\n",
    "        t = 'no=%s '%no\n",
    "        var=var+t\n",
    "    if person:\n",
    "        t = 'case=%s '%person\n",
    "        var=var+t\n",
    "#         print(var)\n",
    "    return var"
   ]
  },
  {
   "cell_type": "code",
   "execution_count": 18,
   "metadata": {},
   "outputs": [],
   "source": [
    "def get_uoh_string(store):\n",
    "    store_case, store_no, store_gender, store_tense, store_person = '','','','',''\n",
    "    for ma in store:\n",
    "        case, no, gender, tense,person = process_ma(ma)\n",
    "        store_case+= ' '+case\n",
    "        store_no+= ' '+no\n",
    "        store_gender+= ' '+gender\n",
    "        store_tense+= ' '+tense\n",
    "        store_person+= ' '+person\n",
    "    var = get_string(store_case.strip(), store_no.strip(), store_gender.strip(),\\\n",
    "                     store_tense.strip(), store_person.strip())\n",
    "    return var"
   ]
  },
  {
   "cell_type": "code",
   "execution_count": 20,
   "metadata": {},
   "outputs": [
    {
     "name": "stdout",
     "output_type": "stream",
     "text": [
      "case=nom nom gender=n n tense=pft md pft md no=pl pl sg pl case=3 3 \n"
     ]
    }
   ],
   "source": [
    "inpu = \"pft. md. pl. 3@pft. md. pl. 3@nom. sg. n.@nom. pl. n.\"\n",
    "inpu = inpu.lstrip('@')\n",
    "inpu= inpu.split('@')\n",
    "print(get_uoh_string(inpu))"
   ]
  },
  {
   "cell_type": "code",
   "execution_count": 10,
   "metadata": {},
   "outputs": [],
   "source": [
    "def get_rule(load,file, line_no):\n",
    "#     print('function: ',file,line_no)\n",
    "    head=''\n",
    "    pos=''\n",
    "    tag=''\n",
    "    try:\n",
    "        df = pd.read_csv('../../DCST/data/Rules/rule_'+file,header=None,sep=',')\n",
    "    except:\n",
    "        return head,pos,tag\n",
    "    for i in range(len(df)):\n",
    "        if df.iloc[i,1] == int(line_no):\n",
    "            head+= ' '+str(load.iloc[df.iloc[i,4],1])\n",
    "            pos+= '@'+str(load.iloc[df.iloc[i,4],3])\n",
    "            tag+= ' '+str(df.iloc[i,8])\n",
    "    return head,pos,tag\n",
    "\n",
    "    \n",
    "# print(get_rule(load,'Gold_1496',2))"
   ]
  },
  {
   "cell_type": "code",
   "execution_count": 22,
   "metadata": {},
   "outputs": [
    {
     "name": "stdout",
     "output_type": "stream",
     "text": [
      "Value of out of voc tag  1\n",
      "successful\n"
     ]
    }
   ],
   "source": [
    "import pandas as pd\n",
    "# Get all the tags in hash list\n",
    "hash = {}\n",
    "tag_file_name = '../data/san_tags'\n",
    "# input_file_name = './sanskrit_treebank/ud_pos_ner_dp_train_san'\n",
    "files = ['ud_pos_ner_dp_dev_san','ud_pos_ner_dp_train_san','ud_pos_ner_dp_test_san']\n",
    "\n",
    "def readtags():\n",
    "    for line in open(tag_file_name).readlines():\n",
    "        hash[line.split()[0]] = int(line.strip().split()[1])\n",
    "c = 1\n",
    "readtags()\n",
    "for input_file_name in files:\n",
    "    if 'train' in input_file_name:\n",
    "        target = 'train/'\n",
    "    elif 'test' in input_file_name:\n",
    "        target = 'test/'\n",
    "    else:\n",
    "        target = 'dev/'\n",
    "    data = open('../data/'+input_file_name).readlines()\n",
    "    writer = open('../models/Dep_san_temp/'+input_file_name+'_with_rules'+'.vw','w')\n",
    "    for line in data:\n",
    "#         print('Line',line.replace('\\n',''))\n",
    "        if line == '\\n':\n",
    "            writer.write('\\n')\n",
    "            continue\n",
    "        splits = line.strip().split('\\t')\n",
    "\n",
    "        # This replace can be removed.\n",
    "        strw = \"|w %s\"%splits[1].replace(\":\",\"COL\");\n",
    "        strp = \"|p %s\"%splits[2].replace(\":\",\"COL\");\n",
    "#         \n",
    "#         print(head,tag)\n",
    "        ##############################################################\n",
    "        # To pass gold data use this blog\n",
    "        if 'test' in input_file_name:\n",
    "            load = pd.read_csv('../../DCST/data/sanskrit_treebank/'+'test/'+splits[3]+'.csv',header=None,sep=',')\n",
    "        else:\n",
    "            try:\n",
    "                load = pd.read_csv('../../DCST/data/sanskrit_treebank/'+'train/'+splits[3]+'.csv',header=None,sep=',')\n",
    "            except:\n",
    "                load = pd.read_csv('../../DCST/data/sanskrit_treebank/'+'dev/'+splits[3]+'.csv',header=None,sep=',')\n",
    "#         print(load.iloc[int(splits[4])-1,1],load.iloc[int(splits[4])-1,3])\n",
    "#         if int(splits[4]) != 0:\n",
    "#             hrule= \"|hrule %s\"%str(load.iloc[int(splits[4]),1])\n",
    "#             prule= \"|prule %s\"%str(load.iloc[int(splits[4]),3])\n",
    "#         else:\n",
    "#             hrule= \"|hrule %s\"%splits[1]\n",
    "#             prule= \"|prule %s\"%splits[2]\n",
    "#         ttule= \"|trule %s\"%splits[-1]\n",
    "        ###############################################################\n",
    "        # To pass samsadhini output use this function\n",
    "        # Variation I\n",
    "#         head,pos,tag =get_rule(load,splits[3],splits[0])\n",
    "#         h = \"|hrule %s\"%head;\n",
    "#         p = \"|prule %s\"%pos;\n",
    "#         t = \"|trule %s\"%tag;\n",
    "        ###############################################################\n",
    "#         # Variation II\n",
    "#         head,pos,tag =get_rule(load,splits[3],splits[0])\n",
    "#         h = \" hrule=%s\"%head.strip();\n",
    "#         p = \" prule=%s\"%pos.strip();\n",
    "#         t = \" trule=%s\"%tag.strip();\n",
    "#         var =\"|uoh\"\n",
    "#         if head:\n",
    "#             var = var+h\n",
    "#         if pos:\n",
    "#             var =var+p\n",
    "#         if tag:\n",
    "#             var =var+t\n",
    "        #############################################################\n",
    "#         Variation III\n",
    "        head,pos,tag =get_rule(load,splits[3],splits[0])\n",
    "        case, no, gender, tense, person = process_ma(splits[2])\n",
    "        var =get_string(case, no, gender, tense, person)\n",
    "        strp = \"|pos %s\"%var.strip();\n",
    "        h = \"|hrule %s\"%head.strip();\n",
    "        t = \"|trule %s\"%tag;\n",
    "        pos = pos.lstrip('@')\n",
    "        pos= pos.split('@')\n",
    "        p = \"|prule %s\"%get_uoh_string(pos);\n",
    "\n",
    "        \n",
    "#         print(hrule)\n",
    "#         word = model.get_word_vector(splits[1]);\n",
    "        ################################################################\n",
    "        # Add fastText\n",
    "#         feature = ''\n",
    "#         i=0\n",
    "#         for v in word:\n",
    "#             feature = feature+' '+str(v)\n",
    "# #             feature = feature+' '+'F'+str(i)+':'+str(v)\n",
    "\n",
    "#             i=i+1\n",
    "#         embedding = \"|FastText%s\"%feature;\n",
    "#         strq = \"|FASTTEXT T0:%s U1:%s\"%(word[1],word[1]);\n",
    "        tag = splits[-1]\n",
    "        if tag not in hash:\n",
    "            hash[tag] = c\n",
    "            c+=1\n",
    "\n",
    "        #writer.write('%s 1.0  %s:%s%s %s\\n'%((int(splits[7])+1) + (hash[tag]<<8), int(splits[7]),tag,strw, strp))\n",
    "        # Writing in order\n",
    "        # head, tag_integer mapping, head, tag, word, pos\n",
    "        writer.write('%s %s %s:%s%s %s %s %s %s\\n' % (int(splits[4]), hash[tag], int(splits[4]), tag, strw, strp, h,p,t))\n",
    "    writer.close()\n",
    "print('Value of out of voc tag ',c)\n",
    "print('successful')"
   ]
  }
 ],
 "metadata": {
  "kernelspec": {
   "display_name": "Python 3",
   "language": "python",
   "name": "python3"
  },
  "language_info": {
   "codemirror_mode": {
    "name": "ipython",
    "version": 3
   },
   "file_extension": ".py",
   "mimetype": "text/x-python",
   "name": "python",
   "nbconvert_exporter": "python",
   "pygments_lexer": "ipython3",
   "version": "3.7.4"
  }
 },
 "nbformat": 4,
 "nbformat_minor": 2
}
