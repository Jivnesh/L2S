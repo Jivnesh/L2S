{
 "cells": [
  {
   "cell_type": "markdown",
   "metadata": {},
   "source": [
    "### Generate_san_vw_with_rules\n",
    "For train,test,dev files"
   ]
  },
  {
   "cell_type": "code",
   "execution_count": 1,
   "metadata": {},
   "outputs": [],
   "source": [
    "# import fasttext\n",
    "# model = fasttext.load_model(\"../../fastText/result/cc.sanskrit.50.bin\")"
   ]
  },
  {
   "cell_type": "code",
   "execution_count": 2,
   "metadata": {},
   "outputs": [],
   "source": [
    "import pandas as pd\n",
    "# data = pd.read_csv('../../DCST/data/Rules/rule_'+'Gold_1496',header=None,sep=',')\n",
    "# data"
   ]
  },
  {
   "cell_type": "code",
   "execution_count": 3,
   "metadata": {},
   "outputs": [],
   "source": [
    "# load = pd.read_csv('../../DCST/data/sanskrit_treebank/'+'dev/'+'Gold_1496'+'.csv',header=None,sep=',')\n",
    "# load"
   ]
  },
  {
   "cell_type": "code",
   "execution_count": 4,
   "metadata": {},
   "outputs": [],
   "source": [
    "def get_rule(load,file, line_no):\n",
    "#     print('function: ',file,line_no)\n",
    "    head=''\n",
    "    pos=''\n",
    "    tag=''\n",
    "    try:\n",
    "        df = pd.read_csv('../../DCST/data/Rules/rule_'+file,header=None,sep=',')\n",
    "    except:\n",
    "        return head,pos,tag\n",
    "    for i in range(len(df)):\n",
    "        if df.iloc[i,1] == int(line_no):\n",
    "            head+= ' '+str(load.iloc[df.iloc[i,4],1])\n",
    "            pos+= ' '+str(load.iloc[df.iloc[i,4],3])\n",
    "            tag+= ' '+str(df.iloc[i,8])\n",
    "    return head,pos,tag\n",
    "\n",
    "    \n",
    "# print(get_rule(load,'Gold_1496',2))"
   ]
  },
  {
   "cell_type": "code",
   "execution_count": 5,
   "metadata": {},
   "outputs": [
    {
     "name": "stdout",
     "output_type": "stream",
     "text": [
      "Value of out of voc tag  1\n",
      "successful\n"
     ]
    }
   ],
   "source": [
    "\n",
    "# Get all the tags in hash list\n",
    "hash = {}\n",
    "tag_file_name = '../data/san_tags'\n",
    "# input_file_name = './sanskrit_treebank/ud_pos_ner_dp_train_san'\n",
    "files = ['ud_pos_ner_dp_dev_san','ud_pos_ner_dp_train_san','ud_pos_ner_dp_test_san']\n",
    "\n",
    "def readtags():\n",
    "    for line in open(tag_file_name).readlines():\n",
    "        hash[line.split()[0]] = int(line.strip().split()[1])\n",
    "c = 1\n",
    "readtags()\n",
    "for input_file_name in files:\n",
    "    if 'train' in input_file_name:\n",
    "        target = 'train/'\n",
    "    elif 'test' in input_file_name:\n",
    "        target = 'test/'\n",
    "    else:\n",
    "        target = 'dev/'\n",
    "    data = open('../data/'+input_file_name).readlines()\n",
    "    writer = open('../models/Dep_san_temp/'+input_file_name+'_with_rules'+'.vw','w')\n",
    "    for line in data:\n",
    "#         print('Line',line.replace('\\n',''))\n",
    "        if line == '\\n':\n",
    "            writer.write('\\n')\n",
    "            continue\n",
    "        splits = line.strip().split('\\t')\n",
    "\n",
    "        # This replace can be removed.\n",
    "        strw = \"|w %s\"%splits[1].replace(\":\",\"COL\");\n",
    "        strp = \"|p %s\"%splits[2].replace(\":\",\"COL\");\n",
    "#         \n",
    "#         print(head,tag)\n",
    "        ##############################################################\n",
    "        # To pass gold data use this blog\n",
    "        if 'test' in input_file_name:\n",
    "            load = pd.read_csv('../../DCST/data/sanskrit_treebank/'+'test/'+splits[3]+'.csv',header=None,sep=',')\n",
    "        else:\n",
    "            try:\n",
    "                load = pd.read_csv('../../DCST/data/sanskrit_treebank/'+'train/'+splits[3]+'.csv',header=None,sep=',')\n",
    "            except:\n",
    "                load = pd.read_csv('../../DCST/data/sanskrit_treebank/'+'dev/'+splits[3]+'.csv',header=None,sep=',')\n",
    "#         print(load.iloc[int(splits[4])-1,1],load.iloc[int(splits[4])-1,3])\n",
    "#         if int(splits[4]) != 0:\n",
    "#             hrule= \"|hrule %s\"%str(load.iloc[int(splits[4]),1])\n",
    "#             prule= \"|prule %s\"%str(load.iloc[int(splits[4]),3])\n",
    "#         else:\n",
    "#             hrule= \"|hrule %s\"%splits[1]\n",
    "#             prule= \"|prule %s\"%splits[2]\n",
    "#         ttule= \"|trule %s\"%splits[-1]\n",
    "        ###############################################################\n",
    "        # To pass samsadhini output use this function\n",
    "        head,pos,tag =get_rule(load,splits[3],splits[0])\n",
    "        h = \"|hrule %s\"%head;\n",
    "        p = \"|prule %s\"%pos;\n",
    "        t = \"|trule %s\"%tag;\n",
    "#         print(hrule)\n",
    "#         word = model.get_word_vector(splits[1]);\n",
    "        feature = ''\n",
    "        i=0\n",
    "#         for v in word:\n",
    "#             feature = feature+' '+str(v)\n",
    "# #             feature = feature+' '+'F'+str(i)+':'+str(v)\n",
    "\n",
    "#             i=i+1\n",
    "#         embedding = \"|FastText%s\"%feature;\n",
    "#         strq = \"|FASTTEXT T0:%s U1:%s\"%(word[1],word[1]);\n",
    "        tag = splits[-1]\n",
    "        if tag not in hash:\n",
    "            hash[tag] = c\n",
    "            c+=1\n",
    "\n",
    "        #writer.write('%s 1.0  %s:%s%s %s\\n'%((int(splits[7])+1) + (hash[tag]<<8), int(splits[7]),tag,strw, strp))\n",
    "        # Writing in order\n",
    "        # head, tag_integer mapping, head, tag, word, pos\n",
    "        writer.write('%s %s %s:%s%s %s %s %s %s\\n' % (int(splits[4]), hash[tag], int(splits[4]), tag, strw, strp, h, p, t))\n",
    "    writer.close()\n",
    "print('Value of out of voc tag ',c)\n",
    "print('successful')"
   ]
  }
 ],
 "metadata": {
  "kernelspec": {
   "display_name": "Python 3",
   "language": "python",
   "name": "python3"
  },
  "language_info": {
   "codemirror_mode": {
    "name": "ipython",
    "version": 3
   },
   "file_extension": ".py",
   "mimetype": "text/x-python",
   "name": "python",
   "nbconvert_exporter": "python",
   "pygments_lexer": "ipython3",
   "version": "3.7.4"
  }
 },
 "nbformat": 4,
 "nbformat_minor": 2
}
